{
 "cells": [
  {
   "cell_type": "code",
   "execution_count": null,
   "id": "28ad034d-d71b-4f3d-a0c7-75c2d6cf5b36",
   "metadata": {
    "tags": []
   },
   "outputs": [],
   "source": [
    "%load_ext autoreload\n",
    "%autoreload 2"
   ]
  },
  {
   "cell_type": "code",
   "execution_count": null,
   "id": "88025c46-a078-4d3f-b403-ca4cb6a189ca",
   "metadata": {
    "tags": [
     "parameters"
    ]
   },
   "outputs": [],
   "source": [
    "# specify substep parameters for interactive run\n",
    "# this cell will be replaced during job run with the parameters from json within params subfolder\n",
    "substep_params={\n",
    "    \"facemask_datasets_url\": \"/raw/facemask_datasets/facemask_detection/face-mask-detection.tar\"\n",
    "}"
   ]
  },
  {
   "cell_type": "code",
   "execution_count": null,
   "id": "6f4722b6-ebf7-4b7d-bce3-7381c897f2cb",
   "metadata": {
    "tags": []
   },
   "outputs": [],
   "source": [
    "# load pipeline and step parameters - do not edit\n",
    "from sinara.substep import get_pipeline_params, get_step_params\n",
    "pipeline_params = get_pipeline_params(pprint=True)\n",
    "step_params = get_step_params(pprint=True)"
   ]
  },
  {
   "cell_type": "code",
   "execution_count": null,
   "id": "d0508bde-536b-4d9e-9826-ddd8d4dcd056",
   "metadata": {},
   "outputs": [],
   "source": [
    "# specify all notebook wide libraries imports here\n",
    "# Sinara lib imports is left in the place of their usage\n",
    "import os\n",
    "import os.path as osp\n",
    "import json"
   ]
  },
  {
   "cell_type": "code",
   "execution_count": null,
   "id": "f067c0a4-3e3e-46f9-8b49-d905d1a1bf96",
   "metadata": {
    "tags": []
   },
   "outputs": [],
   "source": [
    "# define substep interface\n",
    "from sinara.substep import NotebookSubstep, ENV_NAME, PIPELINE_NAME, ZONE_NAME, STEP_NAME, RUN_ID, ENTITY_NAME, ENTITY_PATH, SUBSTEP_NAME\n",
    "\n",
    "substep = NotebookSubstep(pipeline_params, step_params, substep_params)\n",
    "\n",
    "substep.interface(\n",
    "    tmp_entities = \n",
    "    [\n",
    "        { ENTITY_NAME: \"downloaded_archives\"}, # temporarily dowloaded zip archives\n",
    "        { ENTITY_NAME: \"facemask_datasets\"}, # extracted temporary images from raw_face_mask_datasets\n",
    "    ],\n",
    "\n",
    "    outputs =\n",
    "    [\n",
    "        { ENTITY_NAME: \"facemask_datasets\"}, # images and annotations stored for using in next steps\n",
    "    ]\n",
    ")\n",
    "\n",
    "substep.print_interface_info()\n",
    "\n",
    "substep.exit_in_visualize_mode()"
   ]
  },
  {
   "cell_type": "code",
   "execution_count": null,
   "id": "74a4a572-4573-4ead-8912-a3560e53db86",
   "metadata": {
    "tags": []
   },
   "outputs": [],
   "source": [
    "# run spark\n",
    "from sinara.spark import SinaraSpark\n",
    "from sinara.archive import SinaraArchive\n",
    "\n",
    "spark = SinaraSpark.run_session(0)\n",
    "archive = SinaraArchive(spark)\n",
    "SinaraSpark.ui_url()"
   ]
  },
  {
   "cell_type": "markdown",
   "id": "2398c9d8-2ec6-42f6-ad0f-0a929b973062",
   "metadata": {
    "tags": []
   },
   "source": [
    "### Loading and unpacking cifar_datasets tar archive "
   ]
  },
  {
   "cell_type": "code",
   "execution_count": null,
   "id": "31c22b76-868d-46dd-9caa-aaa0aafcddcb",
   "metadata": {
    "tags": []
   },
   "outputs": [],
   "source": [
    "tmp_entities = substep.tmp_entities()\n",
    "facemask_datasets_url = substep_params[\"facemask_datasets_url\"]"
   ]
  },
  {
   "cell_type": "code",
   "execution_count": null,
   "id": "d8fd7dc2-f644-4235-a5ba-0c21c06ca7a8",
   "metadata": {
    "tags": []
   },
   "outputs": [],
   "source": [
    "# Download cifar_datasets\n",
    "!cp {facemask_datasets_url} {osp.join(tmp_entities.downloaded_archives, osp.basename(facemask_datasets_url))}"
   ]
  },
  {
   "cell_type": "code",
   "execution_count": null,
   "id": "e4b60225-2226-470b-b627-339a93a2b704",
   "metadata": {
    "tags": []
   },
   "outputs": [],
   "source": [
    "# unpack\n",
    "!tar -xf {osp.join(tmp_entities.downloaded_archives, osp.basename(facemask_datasets_url))} --directory {tmp_entities.facemask_datasets}"
   ]
  },
  {
   "cell_type": "markdown",
   "id": "b7daa3e3-bf19-4ccf-bda8-75ac0e1b3701",
   "metadata": {
    "tags": []
   },
   "source": [
    "### Archiving cifar10_datasets and meta_cifar10_datasets for next step"
   ]
  },
  {
   "cell_type": "code",
   "execution_count": null,
   "id": "e6765536-1370-476c-a2f9-db56f6140906",
   "metadata": {
    "tags": []
   },
   "outputs": [],
   "source": [
    "# Save tmp_entities.cifar10_datasets and tmp_entities.meta_cifar10_datasets to outputs of step data_load\n",
    "outputs = substep.outputs()\n",
    "\n",
    "archive.pack_files_from_tmp_to_store(tmp_entity_dir=tmp_entities.facemask_datasets, store_path=outputs.facemask_datasets)"
   ]
  },
  {
   "cell_type": "code",
   "execution_count": null,
   "id": "7fa243b4-ec85-4950-94f5-6c08898e53a0",
   "metadata": {
    "tags": []
   },
   "outputs": [],
   "source": [
    "# Stop spark\n",
    "SinaraSpark.stop_session()"
   ]
  }
 ],
 "metadata": {
  "kernelspec": {
   "display_name": "Python 3 (ipykernel)",
   "language": "python",
   "name": "python3"
  },
  "language_info": {
   "codemirror_mode": {
    "name": "ipython",
    "version": 3
   },
   "file_extension": ".py",
   "mimetype": "text/x-python",
   "name": "python",
   "nbconvert_exporter": "python",
   "pygments_lexer": "ipython3",
   "version": "3.11.5"
  }
 },
 "nbformat": 4,
 "nbformat_minor": 5
}
